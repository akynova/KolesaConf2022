{
 "cells": [
  {
   "cell_type": "code",
   "execution_count": 1,
   "metadata": {},
   "outputs": [],
   "source": [
    "import requests, pandas as pd, scipy as sc\n",
    "import seaborn as sns\n",
    "import matplotlib.pyplot as plt\n",
    "import statsmodels.stats.api as sms\n",
    "#from statsmodels.stats.proportion import confint_proportions_2indep as ret\n",
    "from statsmodels.stats.power import zt_ind_solve_power\n",
    "import statsmodels.stats.proportion as proportion"
   ]
  },
  {
   "cell_type": "code",
   "execution_count": 2,
   "metadata": {},
   "outputs": [],
   "source": [
    "A_nobs = 14191  #количество наблюдений\n",
    "B_nobs = 16156\n",
    "\n",
    "A_counts = 200 #количество успехов/конверсий\n",
    "B_counts = 660"
   ]
  },
  {
   "cell_type": "code",
   "execution_count": 3,
   "metadata": {},
   "outputs": [
    {
     "name": "stdout",
     "output_type": "stream",
     "text": [
      "A group proportion =  0.01409343950391093\n",
      "B group proportion =  0.04085169596434761\n",
      "ABS Proportions uplift =  0.02675825646043668\n",
      "Relative Proportions uplift =  1.8986320871502846\n",
      "p_value for binom test =  4.3909451648486515e-58\n",
      "p_value for chisq test =  3.8830590048045534e-42\n",
      "p_value for z test =  1.2440441304459638e-44\n",
      "A confidence interval =  (0.01225052812593625, 0.01616246458515882)\n",
      "B confidence interval =  (0.03787194407367139, 0.04403089273090231)\n",
      "Proportion effect size =  -0.1690473417968524\n",
      "Power of two-sidet z-test for proportion =  1.0\n"
     ]
    }
   ],
   "source": [
    "A_prop = A_counts/A_nobs\n",
    "B_prop = B_counts/B_nobs\n",
    "A_B_uplift = B_prop-A_prop\n",
    "A_B_uplift_abs = B_prop-A_prop\n",
    "A_B_uplift_rel = (B_prop-A_prop)/A_prop\n",
    "\n",
    "dataframe = pd.DataFrame([[A_counts, B_counts], [A_nobs, B_nobs]])\n",
    "\n",
    "p_value_binom_test = sms.binom_test(count = [A_counts, B_counts], nobs = [A_nobs, B_nobs])\n",
    "chi2, chi2_p, df, arr = sc.stats.chi2_contingency(dataframe, correction = True)\n",
    "z_score, ztest_pvalue = sms.proportions_ztest(count = [A_counts, B_counts], nobs = [A_nobs, B_nobs])\n",
    "\n",
    "A_conf_int = sms.proportion_confint(count = A_counts, nobs = A_nobs, method = 'binom_test')\n",
    "B_conf_int = sms.proportion_confint(count = B_counts, nobs = B_nobs, method = 'binom_test')\n",
    "\n",
    "proportion_effect_size = sms.proportion_effectsize(A_prop, B_prop)\n",
    "\n",
    "#sms.power_proportions_2indep(diff, prop2, nobs1, ratio=1, alpha=0.05, value=0, alternative='two-sided', return_results=True)\n",
    "\n",
    "zt_power = zt_ind_solve_power(effect_size=proportion_effect_size, nobs1=A_nobs, alpha=0.05, power=None, ratio= A_nobs/B_nobs, alternative='two-sided')\n",
    "\n",
    "print('A group proportion = ', A_prop)\n",
    "print('B group proportion = ', B_prop)\n",
    "print('ABS Proportions uplift = ', A_B_uplift_abs)\n",
    "print('Relative Proportions uplift = ', A_B_uplift_rel)\n",
    "print('p_value for binom test = ', p_value_binom_test)\n",
    "print('p_value for chisq test = ', chi2_p)\n",
    "print('p_value for z test = ', ztest_pvalue)\n",
    "print('A confidence interval = ', A_conf_int)\n",
    "print('B confidence interval = ', B_conf_int)\n",
    "print('Proportion effect size = ', proportion_effect_size)\n",
    "print('Power of two-sidet z-test for proportion = ', zt_power)"
   ]
  },
  {
   "cell_type": "code",
   "execution_count": 6,
   "metadata": {},
   "outputs": [
    {
     "data": {
      "text/plain": [
       "189.86320871502846"
      ]
     },
     "execution_count": 6,
     "metadata": {},
     "output_type": "execute_result"
    }
   ],
   "source": [
    "(B_prop / A_prop * 100) - 100"
   ]
  },
  {
   "cell_type": "code",
   "execution_count": 7,
   "metadata": {},
   "outputs": [
    {
     "data": {
      "text/plain": [
       "2.9285714285714284"
      ]
     },
     "execution_count": 7,
     "metadata": {},
     "output_type": "execute_result"
    }
   ],
   "source": [
    "4.1/1.4"
   ]
  },
  {
   "cell_type": "code",
   "execution_count": 5,
   "metadata": {},
   "outputs": [
    {
     "data": {
      "text/plain": [
       "200.0"
      ]
     },
     "execution_count": 5,
     "metadata": {},
     "output_type": "execute_result"
    }
   ],
   "source": [
    "2 / (1/100)"
   ]
  },
  {
   "cell_type": "code",
   "execution_count": 5,
   "metadata": {},
   "outputs": [
    {
     "data": {
      "text/plain": [
       "4.085169596434761"
      ]
     },
     "execution_count": 5,
     "metadata": {},
     "output_type": "execute_result"
    }
   ],
   "source": [
    "660 /(16156/100)"
   ]
  },
  {
   "cell_type": "code",
   "execution_count": null,
   "metadata": {},
   "outputs": [],
   "source": []
  }
 ],
 "metadata": {
  "kernelspec": {
   "display_name": "Python 3",
   "language": "python",
   "name": "python3"
  },
  "language_info": {
   "codemirror_mode": {
    "name": "ipython",
    "version": 3
   },
   "file_extension": ".py",
   "mimetype": "text/x-python",
   "name": "python",
   "nbconvert_exporter": "python",
   "pygments_lexer": "ipython3",
   "version": "3.8.5"
  }
 },
 "nbformat": 4,
 "nbformat_minor": 2
}
